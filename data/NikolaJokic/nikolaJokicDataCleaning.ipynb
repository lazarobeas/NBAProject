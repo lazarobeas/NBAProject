{
 "cells": [
  {
   "cell_type": "code",
   "execution_count": 53,
   "metadata": {
    "collapsed": true,
    "ExecuteTime": {
     "start_time": "2023-07-04T03:11:13.329810Z",
     "end_time": "2023-07-04T03:11:13.345811Z"
    }
   },
   "outputs": [],
   "source": [
    "import numpy as np\n",
    "import pandas as pd"
   ]
  },
  {
   "cell_type": "code",
   "execution_count": 54,
   "outputs": [],
   "source": [
    "df = pd.read_csv('NikolaJokicGameEntireCareer.csv')\n"
   ],
   "metadata": {
    "collapsed": false,
    "ExecuteTime": {
     "start_time": "2023-07-04T03:11:13.344811Z",
     "end_time": "2023-07-04T03:11:13.485810Z"
    }
   }
  },
  {
   "cell_type": "code",
   "execution_count": 77,
   "outputs": [
    {
     "name": "stderr",
     "output_type": "stream",
     "text": [
      "C:\\Users\\Lazaro B\\AppData\\Local\\Temp\\ipykernel_32148\\229309627.py:11: UserWarning: Could not infer format, so each element will be parsed individually, falling back to `dateutil`. To ensure parsing is consistent and as-expected, please specify a format.\n",
      "  data['GAME_DATE'] = pd.to_datetime(data['GAME_DATE'])\n"
     ]
    },
    {
     "data": {
      "text/plain": "     GAME_DATE  PTS  AST  STL  REB  TOV  FGA  FGM  FG3M  FG3A  BLK  FTA  FTM   \n0   2016-04-13   18    5    0   13    2   10    7     1     2    0    3    3  \\\n1   2016-04-10   19    4    2   11    1    9    7     0     2    1    6    5   \n2   2016-04-08    8    4    1   15    0    9    3     0     2    1    2    2   \n3   2016-04-05    7    2    0    2    0    5    3     1     3    2    0    0   \n4   2016-04-02    6    5    1   13    0    6    2     0     1    2    2    2   \n..         ...  ...  ...  ...  ...  ...  ...  ...   ...   ...  ...  ...  ...   \n591 2022-10-26   31    9    4   13    3   17   12     0     4    0    7    7   \n592 2022-10-24    9    9    0    9    1    4    3     0     0    0    3    3   \n593 2022-10-22   19   13    1   16    3   10    6     1     1    1    9    6   \n594 2022-10-21   26   10    0   12    5   13    7     1     2    0   11   11   \n595 2022-10-19   27    6    3    4    3   17   12     1     3    0    2    2   \n\n     PLUS_MINUS  HOME  \n0             4     0  \n1           -16     1  \n2            24     1  \n3            -9     1  \n4            -1     1  \n..          ...   ...  \n591          28     1  \n592         -10     0  \n593          18     1  \n594          -3     0  \n595          -5     0  \n\n[596 rows x 15 columns]",
      "text/html": "<div>\n<style scoped>\n    .dataframe tbody tr th:only-of-type {\n        vertical-align: middle;\n    }\n\n    .dataframe tbody tr th {\n        vertical-align: top;\n    }\n\n    .dataframe thead th {\n        text-align: right;\n    }\n</style>\n<table border=\"1\" class=\"dataframe\">\n  <thead>\n    <tr style=\"text-align: right;\">\n      <th></th>\n      <th>GAME_DATE</th>\n      <th>PTS</th>\n      <th>AST</th>\n      <th>STL</th>\n      <th>REB</th>\n      <th>TOV</th>\n      <th>FGA</th>\n      <th>FGM</th>\n      <th>FG3M</th>\n      <th>FG3A</th>\n      <th>BLK</th>\n      <th>FTA</th>\n      <th>FTM</th>\n      <th>PLUS_MINUS</th>\n      <th>HOME</th>\n    </tr>\n  </thead>\n  <tbody>\n    <tr>\n      <th>0</th>\n      <td>2016-04-13</td>\n      <td>18</td>\n      <td>5</td>\n      <td>0</td>\n      <td>13</td>\n      <td>2</td>\n      <td>10</td>\n      <td>7</td>\n      <td>1</td>\n      <td>2</td>\n      <td>0</td>\n      <td>3</td>\n      <td>3</td>\n      <td>4</td>\n      <td>0</td>\n    </tr>\n    <tr>\n      <th>1</th>\n      <td>2016-04-10</td>\n      <td>19</td>\n      <td>4</td>\n      <td>2</td>\n      <td>11</td>\n      <td>1</td>\n      <td>9</td>\n      <td>7</td>\n      <td>0</td>\n      <td>2</td>\n      <td>1</td>\n      <td>6</td>\n      <td>5</td>\n      <td>-16</td>\n      <td>1</td>\n    </tr>\n    <tr>\n      <th>2</th>\n      <td>2016-04-08</td>\n      <td>8</td>\n      <td>4</td>\n      <td>1</td>\n      <td>15</td>\n      <td>0</td>\n      <td>9</td>\n      <td>3</td>\n      <td>0</td>\n      <td>2</td>\n      <td>1</td>\n      <td>2</td>\n      <td>2</td>\n      <td>24</td>\n      <td>1</td>\n    </tr>\n    <tr>\n      <th>3</th>\n      <td>2016-04-05</td>\n      <td>7</td>\n      <td>2</td>\n      <td>0</td>\n      <td>2</td>\n      <td>0</td>\n      <td>5</td>\n      <td>3</td>\n      <td>1</td>\n      <td>3</td>\n      <td>2</td>\n      <td>0</td>\n      <td>0</td>\n      <td>-9</td>\n      <td>1</td>\n    </tr>\n    <tr>\n      <th>4</th>\n      <td>2016-04-02</td>\n      <td>6</td>\n      <td>5</td>\n      <td>1</td>\n      <td>13</td>\n      <td>0</td>\n      <td>6</td>\n      <td>2</td>\n      <td>0</td>\n      <td>1</td>\n      <td>2</td>\n      <td>2</td>\n      <td>2</td>\n      <td>-1</td>\n      <td>1</td>\n    </tr>\n    <tr>\n      <th>...</th>\n      <td>...</td>\n      <td>...</td>\n      <td>...</td>\n      <td>...</td>\n      <td>...</td>\n      <td>...</td>\n      <td>...</td>\n      <td>...</td>\n      <td>...</td>\n      <td>...</td>\n      <td>...</td>\n      <td>...</td>\n      <td>...</td>\n      <td>...</td>\n      <td>...</td>\n    </tr>\n    <tr>\n      <th>591</th>\n      <td>2022-10-26</td>\n      <td>31</td>\n      <td>9</td>\n      <td>4</td>\n      <td>13</td>\n      <td>3</td>\n      <td>17</td>\n      <td>12</td>\n      <td>0</td>\n      <td>4</td>\n      <td>0</td>\n      <td>7</td>\n      <td>7</td>\n      <td>28</td>\n      <td>1</td>\n    </tr>\n    <tr>\n      <th>592</th>\n      <td>2022-10-24</td>\n      <td>9</td>\n      <td>9</td>\n      <td>0</td>\n      <td>9</td>\n      <td>1</td>\n      <td>4</td>\n      <td>3</td>\n      <td>0</td>\n      <td>0</td>\n      <td>0</td>\n      <td>3</td>\n      <td>3</td>\n      <td>-10</td>\n      <td>0</td>\n    </tr>\n    <tr>\n      <th>593</th>\n      <td>2022-10-22</td>\n      <td>19</td>\n      <td>13</td>\n      <td>1</td>\n      <td>16</td>\n      <td>3</td>\n      <td>10</td>\n      <td>6</td>\n      <td>1</td>\n      <td>1</td>\n      <td>1</td>\n      <td>9</td>\n      <td>6</td>\n      <td>18</td>\n      <td>1</td>\n    </tr>\n    <tr>\n      <th>594</th>\n      <td>2022-10-21</td>\n      <td>26</td>\n      <td>10</td>\n      <td>0</td>\n      <td>12</td>\n      <td>5</td>\n      <td>13</td>\n      <td>7</td>\n      <td>1</td>\n      <td>2</td>\n      <td>0</td>\n      <td>11</td>\n      <td>11</td>\n      <td>-3</td>\n      <td>0</td>\n    </tr>\n    <tr>\n      <th>595</th>\n      <td>2022-10-19</td>\n      <td>27</td>\n      <td>6</td>\n      <td>3</td>\n      <td>4</td>\n      <td>3</td>\n      <td>17</td>\n      <td>12</td>\n      <td>1</td>\n      <td>3</td>\n      <td>0</td>\n      <td>2</td>\n      <td>2</td>\n      <td>-5</td>\n      <td>0</td>\n    </tr>\n  </tbody>\n</table>\n<p>596 rows × 15 columns</p>\n</div>"
     },
     "metadata": {},
     "output_type": "display_data"
    }
   ],
   "source": [
    "from sklearn.model_selection import train_test_split\n",
    "from sklearn.linear_model import LinearRegression\n",
    "from sklearn.tree import DecisionTreeRegressor\n",
    "from sklearn.ensemble import RandomForestRegressor\n",
    "from sklearn.metrics import mean_absolute_error, mean_squared_error\n",
    "import matplotlib.pyplot as plt\n",
    "from IPython.display import display\n",
    "\n",
    "filepath = 'C:\\\\Users\\\\Lazaro B\\\\Documents\\\\GitHub\\\\NBAProject\\\\data\\\\NikolaJokic\\\\NikolaJokicGameEntireCareer.csv'\n",
    "data = pd.read_csv(filepath, index_col=False)\n",
    "data['GAME_DATE'] = pd.to_datetime(data['GAME_DATE'])\n",
    "\n",
    "data['HOME'] = data['MATCHUP'].apply(lambda x: 1 if 'vs.' in x else 0)\n",
    "data['OPPONENT'] = data['MATCHUP'].apply(lambda x: x.split()[-1])\n",
    "display(data)"
   ],
   "metadata": {
    "collapsed": false,
    "ExecuteTime": {
     "start_time": "2023-07-04T03:27:50.115663Z",
     "end_time": "2023-07-04T03:27:50.184663Z"
    }
   }
  },
  {
   "cell_type": "code",
   "execution_count": 78,
   "outputs": [],
   "source": [
    "data.sort_values(by='GAME_DATE', inplace=True)"
   ],
   "metadata": {
    "collapsed": false,
    "ExecuteTime": {
     "start_time": "2023-07-04T03:27:52.201484Z",
     "end_time": "2023-07-04T03:27:52.208483Z"
    }
   }
  },
  {
   "cell_type": "code",
   "execution_count": 95,
   "outputs": [
    {
     "name": "stdout",
     "output_type": "stream",
     "text": [
      "Feature ranking:\n",
      "1. FGM (0.599713)\n",
      "2. FGA (0.213323)\n",
      "3. FTA (0.088933)\n",
      "4. FTM (0.066598)\n",
      "5. FG3M (0.011827)\n",
      "6. FG3A (0.007996)\n",
      "7. PLUS_MINUS (0.006401)\n",
      "8. REB (0.005210)\n"
     ]
    },
    {
     "name": "stderr",
     "output_type": "stream",
     "text": [
      "C:\\Users\\Lazaro B\\AppData\\Local\\Temp\\ipykernel_32148\\630018061.py:9: DataConversionWarning: A column-vector y was passed when a 1d array was expected. Please change the shape of y to (n_samples,), for example using ravel().\n",
      "  model.fit(data[features],data[target])\n"
     ]
    }
   ],
   "source": [
    "features = ['REB','FGA','FGM','FG3M', 'FG3A','FTA', 'FTM', 'PLUS_MINUS']\n",
    "target = ['PTS']\n",
    "\n",
    "X_train, X_test, y_train, y_test = train_test_split(\n",
    "    data[features], data[target], test_size=0.3, random_state=42)\n",
    "\n",
    "model = RandomForestRegressor(n_estimators=100, random_state=42, max_features=0.5)\n",
    "\n",
    "model.fit(data[features],data[target])\n",
    "\n",
    "importances = model.feature_importances_\n",
    "import numpy as np\n",
    "indices = np.argsort(importances)[::-1]\n",
    "\n",
    "# Print the feature ranking\n",
    "print(\"Feature ranking:\")\n",
    "\n",
    "for f in range(data[features].shape[1]):\n",
    "    print(\"%d. %s (%f)\" % (f + 1, features[indices[f]], importances[indices[f]]))\n"
   ],
   "metadata": {
    "collapsed": false,
    "ExecuteTime": {
     "start_time": "2023-07-04T03:38:38.376986Z",
     "end_time": "2023-07-04T03:38:38.558985Z"
    }
   }
  },
  {
   "cell_type": "code",
   "execution_count": 121,
   "outputs": [
    {
     "name": "stderr",
     "output_type": "stream",
     "text": [
      "C:\\Users\\Lazaro B\\AppData\\Local\\Temp\\ipykernel_32148\\149509881.py:5: UserWarning: Could not infer format, so each element will be parsed individually, falling back to `dateutil`. To ensure parsing is consistent and as-expected, please specify a format.\n",
      "  data['GAME_DATE'] = pd.to_datetime(data['GAME_DATE'])\n"
     ]
    },
    {
     "data": {
      "text/plain": "     GAME_DATE  PTS  AST  STL  REB  TOV  FGA  FGM  FG3M  FG3A  BLK  FTA  FTM   \n0   2016-04-13   18    5    0   13    2   10    7     1     2    0    3    3  \\\n1   2016-04-10   19    4    2   11    1    9    7     0     2    1    6    5   \n2   2016-04-08    8    4    1   15    0    9    3     0     2    1    2    2   \n3   2016-04-05    7    2    0    2    0    5    3     1     3    2    0    0   \n4   2016-04-02    6    5    1   13    0    6    2     0     1    2    2    2   \n..         ...  ...  ...  ...  ...  ...  ...  ...   ...   ...  ...  ...  ...   \n591 2022-10-26   31    9    4   13    3   17   12     0     4    0    7    7   \n592 2022-10-24    9    9    0    9    1    4    3     0     0    0    3    3   \n593 2022-10-22   19   13    1   16    3   10    6     1     1    1    9    6   \n594 2022-10-21   26   10    0   12    5   13    7     1     2    0   11   11   \n595 2022-10-19   27    6    3    4    3   17   12     1     3    0    2    2   \n\n     PLUS_MINUS  HOME OPPONENT  \n0             4     0      POR  \n1           -16     1      UTA  \n2            24     1      SAS  \n3            -9     1      OKC  \n4            -1     1      SAC  \n..          ...   ...      ...  \n591          28     1      LAL  \n592         -10     0      POR  \n593          18     1      OKC  \n594          -3     0      GSW  \n595          -5     0      UTA  \n\n[596 rows x 16 columns]",
      "text/html": "<div>\n<style scoped>\n    .dataframe tbody tr th:only-of-type {\n        vertical-align: middle;\n    }\n\n    .dataframe tbody tr th {\n        vertical-align: top;\n    }\n\n    .dataframe thead th {\n        text-align: right;\n    }\n</style>\n<table border=\"1\" class=\"dataframe\">\n  <thead>\n    <tr style=\"text-align: right;\">\n      <th></th>\n      <th>GAME_DATE</th>\n      <th>PTS</th>\n      <th>AST</th>\n      <th>STL</th>\n      <th>REB</th>\n      <th>TOV</th>\n      <th>FGA</th>\n      <th>FGM</th>\n      <th>FG3M</th>\n      <th>FG3A</th>\n      <th>BLK</th>\n      <th>FTA</th>\n      <th>FTM</th>\n      <th>PLUS_MINUS</th>\n      <th>HOME</th>\n      <th>OPPONENT</th>\n    </tr>\n  </thead>\n  <tbody>\n    <tr>\n      <th>0</th>\n      <td>2016-04-13</td>\n      <td>18</td>\n      <td>5</td>\n      <td>0</td>\n      <td>13</td>\n      <td>2</td>\n      <td>10</td>\n      <td>7</td>\n      <td>1</td>\n      <td>2</td>\n      <td>0</td>\n      <td>3</td>\n      <td>3</td>\n      <td>4</td>\n      <td>0</td>\n      <td>POR</td>\n    </tr>\n    <tr>\n      <th>1</th>\n      <td>2016-04-10</td>\n      <td>19</td>\n      <td>4</td>\n      <td>2</td>\n      <td>11</td>\n      <td>1</td>\n      <td>9</td>\n      <td>7</td>\n      <td>0</td>\n      <td>2</td>\n      <td>1</td>\n      <td>6</td>\n      <td>5</td>\n      <td>-16</td>\n      <td>1</td>\n      <td>UTA</td>\n    </tr>\n    <tr>\n      <th>2</th>\n      <td>2016-04-08</td>\n      <td>8</td>\n      <td>4</td>\n      <td>1</td>\n      <td>15</td>\n      <td>0</td>\n      <td>9</td>\n      <td>3</td>\n      <td>0</td>\n      <td>2</td>\n      <td>1</td>\n      <td>2</td>\n      <td>2</td>\n      <td>24</td>\n      <td>1</td>\n      <td>SAS</td>\n    </tr>\n    <tr>\n      <th>3</th>\n      <td>2016-04-05</td>\n      <td>7</td>\n      <td>2</td>\n      <td>0</td>\n      <td>2</td>\n      <td>0</td>\n      <td>5</td>\n      <td>3</td>\n      <td>1</td>\n      <td>3</td>\n      <td>2</td>\n      <td>0</td>\n      <td>0</td>\n      <td>-9</td>\n      <td>1</td>\n      <td>OKC</td>\n    </tr>\n    <tr>\n      <th>4</th>\n      <td>2016-04-02</td>\n      <td>6</td>\n      <td>5</td>\n      <td>1</td>\n      <td>13</td>\n      <td>0</td>\n      <td>6</td>\n      <td>2</td>\n      <td>0</td>\n      <td>1</td>\n      <td>2</td>\n      <td>2</td>\n      <td>2</td>\n      <td>-1</td>\n      <td>1</td>\n      <td>SAC</td>\n    </tr>\n    <tr>\n      <th>...</th>\n      <td>...</td>\n      <td>...</td>\n      <td>...</td>\n      <td>...</td>\n      <td>...</td>\n      <td>...</td>\n      <td>...</td>\n      <td>...</td>\n      <td>...</td>\n      <td>...</td>\n      <td>...</td>\n      <td>...</td>\n      <td>...</td>\n      <td>...</td>\n      <td>...</td>\n      <td>...</td>\n    </tr>\n    <tr>\n      <th>591</th>\n      <td>2022-10-26</td>\n      <td>31</td>\n      <td>9</td>\n      <td>4</td>\n      <td>13</td>\n      <td>3</td>\n      <td>17</td>\n      <td>12</td>\n      <td>0</td>\n      <td>4</td>\n      <td>0</td>\n      <td>7</td>\n      <td>7</td>\n      <td>28</td>\n      <td>1</td>\n      <td>LAL</td>\n    </tr>\n    <tr>\n      <th>592</th>\n      <td>2022-10-24</td>\n      <td>9</td>\n      <td>9</td>\n      <td>0</td>\n      <td>9</td>\n      <td>1</td>\n      <td>4</td>\n      <td>3</td>\n      <td>0</td>\n      <td>0</td>\n      <td>0</td>\n      <td>3</td>\n      <td>3</td>\n      <td>-10</td>\n      <td>0</td>\n      <td>POR</td>\n    </tr>\n    <tr>\n      <th>593</th>\n      <td>2022-10-22</td>\n      <td>19</td>\n      <td>13</td>\n      <td>1</td>\n      <td>16</td>\n      <td>3</td>\n      <td>10</td>\n      <td>6</td>\n      <td>1</td>\n      <td>1</td>\n      <td>1</td>\n      <td>9</td>\n      <td>6</td>\n      <td>18</td>\n      <td>1</td>\n      <td>OKC</td>\n    </tr>\n    <tr>\n      <th>594</th>\n      <td>2022-10-21</td>\n      <td>26</td>\n      <td>10</td>\n      <td>0</td>\n      <td>12</td>\n      <td>5</td>\n      <td>13</td>\n      <td>7</td>\n      <td>1</td>\n      <td>2</td>\n      <td>0</td>\n      <td>11</td>\n      <td>11</td>\n      <td>-3</td>\n      <td>0</td>\n      <td>GSW</td>\n    </tr>\n    <tr>\n      <th>595</th>\n      <td>2022-10-19</td>\n      <td>27</td>\n      <td>6</td>\n      <td>3</td>\n      <td>4</td>\n      <td>3</td>\n      <td>17</td>\n      <td>12</td>\n      <td>1</td>\n      <td>3</td>\n      <td>0</td>\n      <td>2</td>\n      <td>2</td>\n      <td>-5</td>\n      <td>0</td>\n      <td>UTA</td>\n    </tr>\n  </tbody>\n</table>\n<p>596 rows × 16 columns</p>\n</div>"
     },
     "metadata": {},
     "output_type": "display_data"
    }
   ],
   "source": [
    "from sklearn.model_selection import train_test_split\n",
    "from sklearn.preprocessing import LabelEncoder\n",
    "\n",
    "data = pd.read_csv('NikolaJokicGameEntireCareer.csv', index_col=False)\n",
    "data['GAME_DATE'] = pd.to_datetime(data['GAME_DATE'])\n",
    "data['HOME'] = data['MATCHUP'].apply(lambda x: 1 if 'vs.' in x else 0)\n",
    "data['OPPONENT'] = data['MATCHUP'].apply(lambda x: x.split()[-1])\n",
    "data.drop(['Unnamed: 0','Game_ID', 'MATCHUP'],axis=1, inplace=True)\n",
    "display(data)\n",
    "\n",
    "# If 'OPPONENT' is a categorical feature, you should encode it.\n",
    "le = LabelEncoder()\n",
    "data['OPPONENT'] = le.transform(data['OPPONENT'])\n",
    "\n",
    "# Specify your feature columns and your target column\n",
    "features = ['AST', 'STL', 'REB', 'TOV', 'FG3M', 'FG3A', 'BLK', 'FGA', 'FGM', 'FTA', 'FTM', 'PLUS_MINUS','HOME', 'OPPONENT']\n",
    "target = 'PTS'\n",
    "\n",
    "# Split the data\n",
    "X_train, X_test, y_train, y_test = train_test_split(data[features], data[target], test_size=0.2, random_state=42)"
   ],
   "metadata": {
    "collapsed": false,
    "ExecuteTime": {
     "start_time": "2023-07-04T04:18:11.021993Z",
     "end_time": "2023-07-04T04:18:11.085991Z"
    }
   }
  },
  {
   "cell_type": "code",
   "execution_count": 122,
   "outputs": [
    {
     "name": "stdout",
     "output_type": "stream",
     "text": [
      "RMSE scores:  [0.51221366 0.59888485 0.65267796 1.18988237 0.63388194]\n",
      "RMSE mean:  0.7175081559857743\n",
      "RMSE standard deviation:  0.2410605773099837\n"
     ]
    }
   ],
   "source": [
    "import xgboost as xgb\n",
    "from sklearn.metrics import mean_squared_error\n",
    "from sklearn.model_selection import cross_val_score\n",
    "\n",
    "model = xgb.XGBRegressor(objective='reg:squarederror', learning_rate=0.1, max_depth=2, n_estimators=100,)\n",
    "scores = cross_val_score(model, data[features], data[target], scoring='neg_root_mean_squared_error', cv=5)\n",
    "\n",
    "rmse_scores = -scores\n",
    "\n",
    "print(\"RMSE scores: \", rmse_scores)\n",
    "print(\"RMSE mean: \", rmse_scores.mean())\n",
    "print(\"RMSE standard deviation: \", rmse_scores.std())"
   ],
   "metadata": {
    "collapsed": false,
    "ExecuteTime": {
     "start_time": "2023-07-04T04:18:16.923726Z",
     "end_time": "2023-07-04T04:18:17.147728Z"
    }
   }
  },
  {
   "cell_type": "code",
   "execution_count": 142,
   "outputs": [
    {
     "name": "stdout",
     "output_type": "stream",
     "text": [
      "0.749676714912764\n"
     ]
    }
   ],
   "source": [
    "# Sort the data by game date\n",
    "data.sort_values('GAME_DATE', inplace=True)\n",
    "\n",
    "# Determine the split point for 80% of the data\n",
    "split_point = int(len(data) * 0.8)\n",
    "\n",
    "# Split the data\n",
    "train = data[:split_point]\n",
    "test = data[split_point:]\n",
    "\n",
    "features = ['AST', 'STL', 'REB', 'TOV', 'FG3M', 'FG3A', 'BLK', 'FGA', 'FGM', 'FTA', 'FTM', 'PLUS_MINUS','HOME', ]\n",
    "target = 'PTS'\n",
    "le = LabelEncoder()\n",
    "data['OPPONENT'] = le.fit_transform(data['OPPONENT'])\n",
    "\n",
    "X_train = train[features]\n",
    "y_train = train[target]\n",
    "\n",
    "model = xgb.XGBRegressor(objective ='reg:squarederror', learning_rate = 0.1, max_depth = 2, n_estimators = 100)\n",
    "model.fit(X_train, y_train,)\n",
    "\n",
    "X_test = test[features]\n",
    "y_test = test[target]\n",
    "\n",
    "predictions = model.predict(X_test)\n",
    "\n",
    "# Print the RMSE for the predictions\n",
    "print(np.sqrt(mean_squared_error(y_test, predictions)))\n",
    "\n"
   ],
   "metadata": {
    "collapsed": false,
    "ExecuteTime": {
     "start_time": "2023-07-04T04:41:28.692838Z",
     "end_time": "2023-07-04T04:41:28.750838Z"
    }
   }
  },
  {
   "cell_type": "code",
   "execution_count": 153,
   "outputs": [
    {
     "data": {
      "text/plain": "    AST  STL   REB  TOV  FG3M  FG3A  BLK   FGA   FGM  FTA  FTM  PLUS_MINUS   \n0  10.3  1.0  13.4  4.0   1.3   3.0  1.0  23.0  13.7  6.8  5.8        12.3  \\\n\n   HOME  \n0     1  ",
      "text/html": "<div>\n<style scoped>\n    .dataframe tbody tr th:only-of-type {\n        vertical-align: middle;\n    }\n\n    .dataframe tbody tr th {\n        vertical-align: top;\n    }\n\n    .dataframe thead th {\n        text-align: right;\n    }\n</style>\n<table border=\"1\" class=\"dataframe\">\n  <thead>\n    <tr style=\"text-align: right;\">\n      <th></th>\n      <th>AST</th>\n      <th>STL</th>\n      <th>REB</th>\n      <th>TOV</th>\n      <th>FG3M</th>\n      <th>FG3A</th>\n      <th>BLK</th>\n      <th>FGA</th>\n      <th>FGM</th>\n      <th>FTA</th>\n      <th>FTM</th>\n      <th>PLUS_MINUS</th>\n      <th>HOME</th>\n    </tr>\n  </thead>\n  <tbody>\n    <tr>\n      <th>0</th>\n      <td>10.3</td>\n      <td>1.0</td>\n      <td>13.4</td>\n      <td>4.0</td>\n      <td>1.3</td>\n      <td>3.0</td>\n      <td>1.0</td>\n      <td>23.0</td>\n      <td>13.7</td>\n      <td>6.8</td>\n      <td>5.8</td>\n      <td>12.3</td>\n      <td>1</td>\n    </tr>\n  </tbody>\n</table>\n</div>"
     },
     "metadata": {},
     "output_type": "display_data"
    },
    {
     "name": "stdout",
     "output_type": "stream",
     "text": [
      "Predicted points: 35.002716064453125\n",
      "The model predicts Jokic will score OVER the prop line.\n"
     ]
    }
   ],
   "source": [
    "game_data = {\n",
    "    'AST': 10.3,\n",
    "    'STL': 1.0,\n",
    "    'REB': 13.4,\n",
    "    'TOV': 4.0,\n",
    "    'FG3M': 1.3,\n",
    "    'FG3A':3.0,\n",
    "    'BLK': 1.0,\n",
    "    'FGA': 23.0,\n",
    "    'FGM': 13.7,\n",
    "    'FTA': 6.8,\n",
    "    'FTM': 5.8,\n",
    "    'PLUS_MINUS': 12.3,\n",
    "    'HOME': 1,\n",
    "}\n",
    "\n",
    "input_data = pd.DataFrame([game_data])\n",
    "\n",
    "# Apply the same preprocessing steps\n",
    "display(input_data)\n",
    "\n",
    "# use the same preprocessing function used earlier\n",
    "predicted_points = model.predict(input_data)\n",
    "\n",
    "print(f\"Predicted points: {predicted_points[0]}\")\n",
    "\n",
    "prop_line = 26.5\n",
    "\n",
    "if predicted_points[0] > prop_line:\n",
    "    print(\"The model predicts Jokic will score OVER the prop line.\")\n",
    "elif predicted_points[0] < prop_line:\n",
    "    print(\"The model predicts Jokic will score UNDER the prop line.\")\n",
    "else:\n",
    "    print(\"The model predicts Jokic will score EXACTLY at the prop line.\")"
   ],
   "metadata": {
    "collapsed": false,
    "ExecuteTime": {
     "start_time": "2023-07-04T05:01:23.562662Z",
     "end_time": "2023-07-04T05:01:23.581660Z"
    }
   }
  },
  {
   "cell_type": "code",
   "execution_count": null,
   "outputs": [],
   "source": [],
   "metadata": {
    "collapsed": false
   }
  }
 ],
 "metadata": {
  "kernelspec": {
   "display_name": "Python 3",
   "language": "python",
   "name": "python3"
  },
  "language_info": {
   "codemirror_mode": {
    "name": "ipython",
    "version": 2
   },
   "file_extension": ".py",
   "mimetype": "text/x-python",
   "name": "python",
   "nbconvert_exporter": "python",
   "pygments_lexer": "ipython2",
   "version": "2.7.6"
  }
 },
 "nbformat": 4,
 "nbformat_minor": 0
}
